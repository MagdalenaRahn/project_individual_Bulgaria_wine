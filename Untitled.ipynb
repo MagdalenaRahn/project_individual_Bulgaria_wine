{
 "cells": [
  {
   "cell_type": "markdown",
   "id": "e60bfb0c",
   "metadata": {},
   "source": [
    "# Bulgaria wine project"
   ]
  },
  {
   "cell_type": "code",
   "execution_count": 1,
   "id": "9eca09ae",
   "metadata": {},
   "outputs": [],
   "source": [
    "# imports\n",
    "\n",
    "import pandas as pd\n",
    "import numpy as np\n",
    "import matplotlib.pyplot as plt\n",
    "import seaborn as sns\n",
    "from math import sqrt\n",
    "\n",
    "from sklearn.linear_model import LinearRegression\n",
    "from sklearn.linear_model import TweedieRegressor\n",
    "from sklearn.linear_model import LassoLars\n",
    "\n",
    "from scipy import stats\n",
    "from scipy.stats import pearsonr, spearmanr\n",
    "\n",
    "from sklearn.metrics import mean_squared_error, r2_score, explained_variance_score\n",
    "\n",
    "from sklearn.preprocessing import MinMaxScaler\n",
    "from sklearn.preprocessing import PolynomialFeatures\n",
    "\n",
    "from sklearn.cluster import KMeans\n",
    "\n",
    "from sklearn.feature_selection import SelectKBest, f_regression, RFE\n",
    "\n",
    "from sklearn.multioutput import MultiOutputClassifier\n",
    "from sklearn.tree import DecisionTreeClassifier, plot_tree\n",
    "from sklearn.ensemble import RandomForestClassifier\n",
    "from sklearn.metrics import classification_report, confusion_matrix, plot_confusion_matrix\n",
    "\n",
    "from sklearn.neighbors import KNeighborsClassifier\n",
    "\n",
    "# import my functions\n",
    "import prepare\n",
    "import env\n",
    "import prepare_xy_split\n",
    "import selectKBest_rfe_functions\n",
    "import functions as f\n",
    "import wrangle\n",
    "\n",
    "# turn off pink warning boxes\n",
    "import warnings\n",
    "warnings.filterwarnings(\"ignore\")\n",
    "\n",
    "%matplotlib inline"
   ]
  },
  {
   "cell_type": "code",
   "execution_count": 2,
   "id": "cebcbbdb",
   "metadata": {},
   "outputs": [],
   "source": [
    "coup = pd.read_csv('in-vehicle-coupon-recommendation.csv')"
   ]
  },
  {
   "cell_type": "code",
   "execution_count": 3,
   "id": "82fcb65d",
   "metadata": {},
   "outputs": [
    {
     "data": {
      "text/html": [
       "<div>\n",
       "<style scoped>\n",
       "    .dataframe tbody tr th:only-of-type {\n",
       "        vertical-align: middle;\n",
       "    }\n",
       "\n",
       "    .dataframe tbody tr th {\n",
       "        vertical-align: top;\n",
       "    }\n",
       "\n",
       "    .dataframe thead th {\n",
       "        text-align: right;\n",
       "    }\n",
       "</style>\n",
       "<table border=\"1\" class=\"dataframe\">\n",
       "  <thead>\n",
       "    <tr style=\"text-align: right;\">\n",
       "      <th></th>\n",
       "      <th>destination</th>\n",
       "      <th>passanger</th>\n",
       "      <th>weather</th>\n",
       "      <th>temperature</th>\n",
       "      <th>time</th>\n",
       "      <th>coupon</th>\n",
       "      <th>expiration</th>\n",
       "      <th>gender</th>\n",
       "      <th>age</th>\n",
       "      <th>maritalStatus</th>\n",
       "      <th>...</th>\n",
       "      <th>CoffeeHouse</th>\n",
       "      <th>CarryAway</th>\n",
       "      <th>RestaurantLessThan20</th>\n",
       "      <th>Restaurant20To50</th>\n",
       "      <th>toCoupon_GEQ5min</th>\n",
       "      <th>toCoupon_GEQ15min</th>\n",
       "      <th>toCoupon_GEQ25min</th>\n",
       "      <th>direction_same</th>\n",
       "      <th>direction_opp</th>\n",
       "      <th>Y</th>\n",
       "    </tr>\n",
       "  </thead>\n",
       "  <tbody>\n",
       "    <tr>\n",
       "      <th>5167</th>\n",
       "      <td>Work</td>\n",
       "      <td>Alone</td>\n",
       "      <td>Sunny</td>\n",
       "      <td>80</td>\n",
       "      <td>7AM</td>\n",
       "      <td>Coffee House</td>\n",
       "      <td>2h</td>\n",
       "      <td>Male</td>\n",
       "      <td>36</td>\n",
       "      <td>Married partner</td>\n",
       "      <td>...</td>\n",
       "      <td>1~3</td>\n",
       "      <td>4~8</td>\n",
       "      <td>1~3</td>\n",
       "      <td>1~3</td>\n",
       "      <td>1</td>\n",
       "      <td>1</td>\n",
       "      <td>0</td>\n",
       "      <td>1</td>\n",
       "      <td>0</td>\n",
       "      <td>1</td>\n",
       "    </tr>\n",
       "    <tr>\n",
       "      <th>11854</th>\n",
       "      <td>No Urgent Place</td>\n",
       "      <td>Partner</td>\n",
       "      <td>Snowy</td>\n",
       "      <td>30</td>\n",
       "      <td>10AM</td>\n",
       "      <td>Restaurant(&lt;20)</td>\n",
       "      <td>1d</td>\n",
       "      <td>Male</td>\n",
       "      <td>26</td>\n",
       "      <td>Unmarried partner</td>\n",
       "      <td>...</td>\n",
       "      <td>NaN</td>\n",
       "      <td>1~3</td>\n",
       "      <td>never</td>\n",
       "      <td>never</td>\n",
       "      <td>1</td>\n",
       "      <td>0</td>\n",
       "      <td>0</td>\n",
       "      <td>0</td>\n",
       "      <td>1</td>\n",
       "      <td>0</td>\n",
       "    </tr>\n",
       "    <tr>\n",
       "      <th>7660</th>\n",
       "      <td>Work</td>\n",
       "      <td>Alone</td>\n",
       "      <td>Snowy</td>\n",
       "      <td>30</td>\n",
       "      <td>7AM</td>\n",
       "      <td>Restaurant(&lt;20)</td>\n",
       "      <td>2h</td>\n",
       "      <td>Male</td>\n",
       "      <td>50plus</td>\n",
       "      <td>Married partner</td>\n",
       "      <td>...</td>\n",
       "      <td>never</td>\n",
       "      <td>4~8</td>\n",
       "      <td>4~8</td>\n",
       "      <td>never</td>\n",
       "      <td>1</td>\n",
       "      <td>1</td>\n",
       "      <td>1</td>\n",
       "      <td>0</td>\n",
       "      <td>1</td>\n",
       "      <td>1</td>\n",
       "    </tr>\n",
       "  </tbody>\n",
       "</table>\n",
       "<p>3 rows × 26 columns</p>\n",
       "</div>"
      ],
      "text/plain": [
       "           destination passanger weather  temperature  time           coupon  \\\n",
       "5167              Work     Alone   Sunny           80   7AM     Coffee House   \n",
       "11854  No Urgent Place   Partner   Snowy           30  10AM  Restaurant(<20)   \n",
       "7660              Work     Alone   Snowy           30   7AM  Restaurant(<20)   \n",
       "\n",
       "      expiration gender     age      maritalStatus  ...  CoffeeHouse  \\\n",
       "5167          2h   Male      36    Married partner  ...          1~3   \n",
       "11854         1d   Male      26  Unmarried partner  ...          NaN   \n",
       "7660          2h   Male  50plus    Married partner  ...        never   \n",
       "\n",
       "      CarryAway RestaurantLessThan20 Restaurant20To50 toCoupon_GEQ5min  \\\n",
       "5167        4~8                  1~3              1~3                1   \n",
       "11854       1~3                never            never                1   \n",
       "7660        4~8                  4~8            never                1   \n",
       "\n",
       "      toCoupon_GEQ15min toCoupon_GEQ25min direction_same direction_opp  Y  \n",
       "5167                  1                 0              1             0  1  \n",
       "11854                 0                 0              0             1  0  \n",
       "7660                  1                 1              0             1  1  \n",
       "\n",
       "[3 rows x 26 columns]"
      ]
     },
     "execution_count": 3,
     "metadata": {},
     "output_type": "execute_result"
    }
   ],
   "source": [
    "coup.sample(3)"
   ]
  },
  {
   "cell_type": "code",
   "execution_count": 4,
   "id": "39777a7d",
   "metadata": {},
   "outputs": [
    {
     "data": {
      "text/plain": [
       "destination                 0\n",
       "passanger                   0\n",
       "weather                     0\n",
       "temperature                 0\n",
       "time                        0\n",
       "coupon                      0\n",
       "expiration                  0\n",
       "gender                      0\n",
       "age                         0\n",
       "maritalStatus               0\n",
       "has_children                0\n",
       "education                   0\n",
       "occupation                  0\n",
       "income                      0\n",
       "car                     12576\n",
       "Bar                       107\n",
       "CoffeeHouse               217\n",
       "CarryAway                 151\n",
       "RestaurantLessThan20      130\n",
       "Restaurant20To50          189\n",
       "toCoupon_GEQ5min            0\n",
       "toCoupon_GEQ15min           0\n",
       "toCoupon_GEQ25min           0\n",
       "direction_same              0\n",
       "direction_opp               0\n",
       "Y                           0\n",
       "dtype: int64"
      ]
     },
     "execution_count": 4,
     "metadata": {},
     "output_type": "execute_result"
    }
   ],
   "source": [
    "coup.isna().sum()"
   ]
  },
  {
   "cell_type": "markdown",
   "id": "99e3fb9a",
   "metadata": {},
   "source": [
    "**Dropping car column due to prevalence of null values. Dropping 'age',  because it will not be examined.**"
   ]
  },
  {
   "cell_type": "markdown",
   "id": "2c895b5d",
   "metadata": {},
   "source": [
    "## Cleaning "
   ]
  },
  {
   "cell_type": "code",
   "execution_count": 5,
   "id": "b85561f4",
   "metadata": {},
   "outputs": [],
   "source": [
    "# dropping car col\n",
    "\n",
    "coup = coup.drop(columns = ['car', 'age'])"
   ]
  },
  {
   "cell_type": "code",
   "execution_count": 6,
   "id": "6538033e",
   "metadata": {},
   "outputs": [
    {
     "data": {
      "text/plain": [
       "(12684, 24)"
      ]
     },
     "execution_count": 6,
     "metadata": {},
     "output_type": "execute_result"
    }
   ],
   "source": [
    "# new shape\n",
    "\n",
    "coup.shape"
   ]
  },
  {
   "cell_type": "code",
   "execution_count": 7,
   "id": "37555d01",
   "metadata": {},
   "outputs": [],
   "source": [
    "# dropping remaining nulls\n",
    "\n",
    "coup = coup.dropna()"
   ]
  },
  {
   "cell_type": "code",
   "execution_count": 8,
   "id": "5b777f98",
   "metadata": {},
   "outputs": [
    {
     "name": "stdout",
     "output_type": "stream",
     "text": [
      "<class 'pandas.core.frame.DataFrame'>\n",
      "Int64Index: 12079 entries, 22 to 12683\n",
      "Data columns (total 24 columns):\n",
      " #   Column                Non-Null Count  Dtype \n",
      "---  ------                --------------  ----- \n",
      " 0   destination           12079 non-null  object\n",
      " 1   passanger             12079 non-null  object\n",
      " 2   weather               12079 non-null  object\n",
      " 3   temperature           12079 non-null  int64 \n",
      " 4   time                  12079 non-null  object\n",
      " 5   coupon                12079 non-null  object\n",
      " 6   expiration            12079 non-null  object\n",
      " 7   gender                12079 non-null  object\n",
      " 8   maritalStatus         12079 non-null  object\n",
      " 9   has_children          12079 non-null  int64 \n",
      " 10  education             12079 non-null  object\n",
      " 11  occupation            12079 non-null  object\n",
      " 12  income                12079 non-null  object\n",
      " 13  Bar                   12079 non-null  object\n",
      " 14  CoffeeHouse           12079 non-null  object\n",
      " 15  CarryAway             12079 non-null  object\n",
      " 16  RestaurantLessThan20  12079 non-null  object\n",
      " 17  Restaurant20To50      12079 non-null  object\n",
      " 18  toCoupon_GEQ5min      12079 non-null  int64 \n",
      " 19  toCoupon_GEQ15min     12079 non-null  int64 \n",
      " 20  toCoupon_GEQ25min     12079 non-null  int64 \n",
      " 21  direction_same        12079 non-null  int64 \n",
      " 22  direction_opp         12079 non-null  int64 \n",
      " 23  Y                     12079 non-null  int64 \n",
      "dtypes: int64(8), object(16)\n",
      "memory usage: 2.3+ MB\n"
     ]
    }
   ],
   "source": [
    "# info\n",
    "\n",
    "coup.info()"
   ]
  },
  {
   "cell_type": "markdown",
   "id": "a08edf93",
   "metadata": {},
   "source": [
    "**All columns appear to have appropriate dtypes.**"
   ]
  },
  {
   "cell_type": "code",
   "execution_count": 9,
   "id": "8614f55d",
   "metadata": {},
   "outputs": [],
   "source": [
    "# renaming \n",
    "\n",
    "coup = coup.rename(columns = {'maritalStatus' : 'marital_status', 'Bar' : 'bar','CoffeeHouse': 'coffee_hse', \n",
    "                       'CarryAway': 'carry_away', 'RestaurantLessThan20' : 'resto_less_than_20',\n",
    "                       'Restaurant20To50' : 'resto_20_50', 'toCoupon_GEQ5min' : 'to_coupon_GEQ5m',\n",
    "                       'toCoupon_GEQ15min':'to_coupon_GEQ15m', 'toCoupon_GEQ25min' : 'to_coupon_GEQ25m',\n",
    "                       'direction_same' : 'dir_same', 'direction_opp': 'dir_opp'})"
   ]
  },
  {
   "cell_type": "code",
   "execution_count": 10,
   "id": "96e35335",
   "metadata": {},
   "outputs": [
    {
     "data": {
      "text/plain": [
       "Index(['destination', 'passanger', 'weather', 'temperature', 'time', 'coupon',\n",
       "       'expiration', 'gender', 'marital_status', 'has_children', 'education',\n",
       "       'occupation', 'income', 'bar', 'coffee_hse', 'carry_away',\n",
       "       'resto_less_than_20', 'resto_20_50', 'to_coupon_GEQ5m',\n",
       "       'to_coupon_GEQ15m', 'to_coupon_GEQ25m', 'dir_same', 'dir_opp', 'Y'],\n",
       "      dtype='object')"
      ]
     },
     "execution_count": 10,
     "metadata": {},
     "output_type": "execute_result"
    }
   ],
   "source": [
    "# columns \n",
    "coup.columns"
   ]
  },
  {
   "cell_type": "markdown",
   "id": "72af4035",
   "metadata": {},
   "source": [
    "**The target will be 'Y' (1 = accepted coupon, 0 = did not accept coupon).**"
   ]
  },
  {
   "cell_type": "code",
   "execution_count": 11,
   "id": "8ddc790a",
   "metadata": {},
   "outputs": [],
   "source": [
    "# sorting by values\n",
    "\n",
    "coup = coup.sort_values(['time', 'weather'], ascending = [True, True])"
   ]
  },
  {
   "cell_type": "markdown",
   "id": "73307435",
   "metadata": {},
   "source": [
    "## Initial graphing"
   ]
  },
  {
   "cell_type": "markdown",
   "id": "999ac86a",
   "metadata": {},
   "source": [
    "**Hypotheses:**  \n",
    "1/ $H_{0}$ : There is no relationship between the weather and the coupon being accepted.  \n",
    "$H_{a}$ : There is a relationship between the weather and the coupon being accepted.  \n",
    "\n",
    "2/ $H_{0}$ : People heading in the opposite direction are equally likely to accept the coupon as people heading in the same direction as the coupon.  \n",
    "$H_{a}$ : People heading in the opposite direction are less likely to accept the coupon than people heading in the same direction as the coupon.  \n",
    "\n",
    "3/ $H_{0}$ : People who make $ 74999 or less are equally likely to accept the coupon as people who make $ 75000 or more.  \n",
    "$H_{a}$ : People who make $ 74999 or less are more likely to accept the coupon as people who make $ 75000 or more.  \n",
    "\n",
    "4/ $H_{0}$ : There is no relationship between having children and accepting the coupon.  \n",
    "$H_{a}$ : There is a relationship between having children and accepting the coupon.  \n",
    "\n",
    "\n"
   ]
  },
  {
   "cell_type": "code",
   "execution_count": 12,
   "id": "af935066",
   "metadata": {},
   "outputs": [
    {
     "data": {
      "text/html": [
       "<div>\n",
       "<style scoped>\n",
       "    .dataframe tbody tr th:only-of-type {\n",
       "        vertical-align: middle;\n",
       "    }\n",
       "\n",
       "    .dataframe tbody tr th {\n",
       "        vertical-align: top;\n",
       "    }\n",
       "\n",
       "    .dataframe thead th {\n",
       "        text-align: right;\n",
       "    }\n",
       "</style>\n",
       "<table border=\"1\" class=\"dataframe\">\n",
       "  <thead>\n",
       "    <tr style=\"text-align: right;\">\n",
       "      <th></th>\n",
       "      <th>destination</th>\n",
       "      <th>passanger</th>\n",
       "      <th>weather</th>\n",
       "      <th>temperature</th>\n",
       "      <th>time</th>\n",
       "      <th>coupon</th>\n",
       "      <th>expiration</th>\n",
       "      <th>gender</th>\n",
       "      <th>marital_status</th>\n",
       "      <th>has_children</th>\n",
       "      <th>...</th>\n",
       "      <th>coffee_hse</th>\n",
       "      <th>carry_away</th>\n",
       "      <th>resto_less_than_20</th>\n",
       "      <th>resto_20_50</th>\n",
       "      <th>to_coupon_GEQ5m</th>\n",
       "      <th>to_coupon_GEQ15m</th>\n",
       "      <th>to_coupon_GEQ25m</th>\n",
       "      <th>dir_same</th>\n",
       "      <th>dir_opp</th>\n",
       "      <th>Y</th>\n",
       "    </tr>\n",
       "  </thead>\n",
       "  <tbody>\n",
       "    <tr>\n",
       "      <th>6604</th>\n",
       "      <td>No Urgent Place</td>\n",
       "      <td>Kid(s)</td>\n",
       "      <td>Rainy</td>\n",
       "      <td>55</td>\n",
       "      <td>10AM</td>\n",
       "      <td>Coffee House</td>\n",
       "      <td>1d</td>\n",
       "      <td>Male</td>\n",
       "      <td>Married partner</td>\n",
       "      <td>1</td>\n",
       "      <td>...</td>\n",
       "      <td>never</td>\n",
       "      <td>less1</td>\n",
       "      <td>1~3</td>\n",
       "      <td>1~3</td>\n",
       "      <td>1</td>\n",
       "      <td>0</td>\n",
       "      <td>0</td>\n",
       "      <td>0</td>\n",
       "      <td>1</td>\n",
       "      <td>1</td>\n",
       "    </tr>\n",
       "    <tr>\n",
       "      <th>6629</th>\n",
       "      <td>No Urgent Place</td>\n",
       "      <td>Friend(s)</td>\n",
       "      <td>Rainy</td>\n",
       "      <td>55</td>\n",
       "      <td>10AM</td>\n",
       "      <td>Carry out &amp; Take away</td>\n",
       "      <td>2h</td>\n",
       "      <td>Male</td>\n",
       "      <td>Single</td>\n",
       "      <td>0</td>\n",
       "      <td>...</td>\n",
       "      <td>1~3</td>\n",
       "      <td>1~3</td>\n",
       "      <td>1~3</td>\n",
       "      <td>less1</td>\n",
       "      <td>1</td>\n",
       "      <td>1</td>\n",
       "      <td>0</td>\n",
       "      <td>0</td>\n",
       "      <td>1</td>\n",
       "      <td>1</td>\n",
       "    </tr>\n",
       "    <tr>\n",
       "      <th>6671</th>\n",
       "      <td>No Urgent Place</td>\n",
       "      <td>Friend(s)</td>\n",
       "      <td>Rainy</td>\n",
       "      <td>55</td>\n",
       "      <td>10AM</td>\n",
       "      <td>Carry out &amp; Take away</td>\n",
       "      <td>2h</td>\n",
       "      <td>Male</td>\n",
       "      <td>Single</td>\n",
       "      <td>0</td>\n",
       "      <td>...</td>\n",
       "      <td>1~3</td>\n",
       "      <td>4~8</td>\n",
       "      <td>1~3</td>\n",
       "      <td>less1</td>\n",
       "      <td>1</td>\n",
       "      <td>1</td>\n",
       "      <td>0</td>\n",
       "      <td>0</td>\n",
       "      <td>1</td>\n",
       "      <td>1</td>\n",
       "    </tr>\n",
       "  </tbody>\n",
       "</table>\n",
       "<p>3 rows × 24 columns</p>\n",
       "</div>"
      ],
      "text/plain": [
       "          destination  passanger weather  temperature  time  \\\n",
       "6604  No Urgent Place     Kid(s)   Rainy           55  10AM   \n",
       "6629  No Urgent Place  Friend(s)   Rainy           55  10AM   \n",
       "6671  No Urgent Place  Friend(s)   Rainy           55  10AM   \n",
       "\n",
       "                     coupon expiration gender   marital_status  has_children  \\\n",
       "6604           Coffee House         1d   Male  Married partner             1   \n",
       "6629  Carry out & Take away         2h   Male           Single             0   \n",
       "6671  Carry out & Take away         2h   Male           Single             0   \n",
       "\n",
       "      ... coffee_hse carry_away resto_less_than_20 resto_20_50  \\\n",
       "6604  ...      never      less1                1~3         1~3   \n",
       "6629  ...        1~3        1~3                1~3       less1   \n",
       "6671  ...        1~3        4~8                1~3       less1   \n",
       "\n",
       "     to_coupon_GEQ5m to_coupon_GEQ15m to_coupon_GEQ25m dir_same  dir_opp  Y  \n",
       "6604               1                0                0        0        1  1  \n",
       "6629               1                1                0        0        1  1  \n",
       "6671               1                1                0        0        1  1  \n",
       "\n",
       "[3 rows x 24 columns]"
      ]
     },
     "execution_count": 12,
     "metadata": {},
     "output_type": "execute_result"
    }
   ],
   "source": [
    "coup.head(3)"
   ]
  },
  {
   "cell_type": "code",
   "execution_count": 13,
   "id": "bd883b02",
   "metadata": {},
   "outputs": [
    {
     "data": {
      "image/png": "[encoded data removed]",
      "text/plain": [
       "<Figure size 640x480 with 1 Axes>"
      ]
     },
     "metadata": {},
     "output_type": "display_data"
    }
   ],
   "source": [
    "# plotting heading in the opposite direction\n",
    "\n",
    "plt.hist(coup['dir_opp'])\n",
    "plt.title('People heading in the opposite direction of the offered coupon')\n",
    "\n",
    "# fig.set_xticklabels(['0',  '1']) # not working\n",
    "# plt.legend(['0 = Heading Same Direction', '1 = Heading Opposite'])\n",
    "plt.show()\n"
   ]
  },
  {
   "cell_type": "code",
   "execution_count": 14,
   "id": "76c5038b",
   "metadata": {},
   "outputs": [
    {
     "data": {
      "text/plain": [
       "Text(0.5, 1.0, 'People with children and the offered coupon')"
      ]
     },
     "execution_count": 14,
     "metadata": {},
     "output_type": "execute_result"
    },
    {
     "data": {
      "image/png": "[encoded data removed]",
      "text/plain": [
       "<Figure size 640x480 with 1 Axes>"
      ]
     },
     "metadata": {},
     "output_type": "display_data"
    }
   ],
   "source": [
    "# plotting children\n",
    "\n",
    "plt.hist(coup['has_children'])\n",
    "plt.title('People with children and the offered coupon')"
   ]
  },
  {
   "cell_type": "code",
   "execution_count": 15,
   "id": "2fd68640",
   "metadata": {},
   "outputs": [],
   "source": [
    "# perform binning on 'income' variable\n",
    "\n",
    "coup['income_bin'] = np.where(coup['income'].isin(['Less than $12500', '$12500 - $24999','$25000 - $37499',\n",
    "                                                  '$37500 - $49999', '$50000 - $62499']), 'lower_income', \n",
    "                                                  'higher_income')"
   ]
  },
  {
   "cell_type": "code",
   "execution_count": 16,
   "id": "1f5afb9f",
   "metadata": {},
   "outputs": [
    {
     "data": {
      "text/html": [
       "<div>\n",
       "<style scoped>\n",
       "    .dataframe tbody tr th:only-of-type {\n",
       "        vertical-align: middle;\n",
       "    }\n",
       "\n",
       "    .dataframe tbody tr th {\n",
       "        vertical-align: top;\n",
       "    }\n",
       "\n",
       "    .dataframe thead th {\n",
       "        text-align: right;\n",
       "    }\n",
       "</style>\n",
       "<table border=\"1\" class=\"dataframe\">\n",
       "  <thead>\n",
       "    <tr style=\"text-align: right;\">\n",
       "      <th></th>\n",
       "      <th>destination</th>\n",
       "      <th>passanger</th>\n",
       "      <th>weather</th>\n",
       "      <th>temperature</th>\n",
       "      <th>time</th>\n",
       "      <th>coupon</th>\n",
       "      <th>expiration</th>\n",
       "      <th>gender</th>\n",
       "      <th>marital_status</th>\n",
       "      <th>has_children</th>\n",
       "      <th>...</th>\n",
       "      <th>carry_away</th>\n",
       "      <th>resto_less_than_20</th>\n",
       "      <th>resto_20_50</th>\n",
       "      <th>to_coupon_GEQ5m</th>\n",
       "      <th>to_coupon_GEQ15m</th>\n",
       "      <th>to_coupon_GEQ25m</th>\n",
       "      <th>dir_same</th>\n",
       "      <th>dir_opp</th>\n",
       "      <th>Y</th>\n",
       "      <th>income_bin</th>\n",
       "    </tr>\n",
       "  </thead>\n",
       "  <tbody>\n",
       "    <tr>\n",
       "      <th>6604</th>\n",
       "      <td>No Urgent Place</td>\n",
       "      <td>Kid(s)</td>\n",
       "      <td>Rainy</td>\n",
       "      <td>55</td>\n",
       "      <td>10AM</td>\n",
       "      <td>Coffee House</td>\n",
       "      <td>1d</td>\n",
       "      <td>Male</td>\n",
       "      <td>Married partner</td>\n",
       "      <td>1</td>\n",
       "      <td>...</td>\n",
       "      <td>less1</td>\n",
       "      <td>1~3</td>\n",
       "      <td>1~3</td>\n",
       "      <td>1</td>\n",
       "      <td>0</td>\n",
       "      <td>0</td>\n",
       "      <td>0</td>\n",
       "      <td>1</td>\n",
       "      <td>1</td>\n",
       "      <td>higher_income</td>\n",
       "    </tr>\n",
       "  </tbody>\n",
       "</table>\n",
       "<p>1 rows × 25 columns</p>\n",
       "</div>"
      ],
      "text/plain": [
       "          destination passanger weather  temperature  time        coupon  \\\n",
       "6604  No Urgent Place    Kid(s)   Rainy           55  10AM  Coffee House   \n",
       "\n",
       "     expiration gender   marital_status  has_children  ... carry_away  \\\n",
       "6604         1d   Male  Married partner             1  ...      less1   \n",
       "\n",
       "     resto_less_than_20 resto_20_50 to_coupon_GEQ5m to_coupon_GEQ15m  \\\n",
       "6604                1~3         1~3               1                0   \n",
       "\n",
       "     to_coupon_GEQ25m dir_same dir_opp  Y     income_bin  \n",
       "6604                0        0       1  1  higher_income  \n",
       "\n",
       "[1 rows x 25 columns]"
      ]
     },
     "execution_count": 16,
     "metadata": {},
     "output_type": "execute_result"
    }
   ],
   "source": [
    "coup.head(1)"
   ]
  },
  {
   "cell_type": "code",
   "execution_count": 17,
   "id": "d3b3ff34",
   "metadata": {},
   "outputs": [
    {
     "data": {
      "text/plain": [
       "Text(0.5, 1.0, 'Income groups and the offered coupon')"
      ]
     },
     "execution_count": 17,
     "metadata": {},
     "output_type": "execute_result"
    },
    {
     "data": {
      "image/png": "[encoded data removed]",
      "text/plain": [
       "<Figure size 640x480 with 1 Axes>"
      ]
     },
     "metadata": {},
     "output_type": "display_data"
    }
   ],
   "source": [
    "# plotting income bin\n",
    "\n",
    "plt.hist(coup['income_bin'])\n",
    "plt.title('Income groups and the offered coupon')"
   ]
  },
  {
   "cell_type": "code",
   "execution_count": 18,
   "id": "5f7732f8",
   "metadata": {},
   "outputs": [
    {
     "data": {
      "text/plain": [
       "Text(0.5, 1.0, 'Weather and the offered coupon')"
      ]
     },
     "execution_count": 18,
     "metadata": {},
     "output_type": "execute_result"
    },
    {
     "data": {
      "image/png": "[encoded data removed]",
      "text/plain": [
       "<Figure size 640x480 with 1 Axes>"
      ]
     },
     "metadata": {},
     "output_type": "display_data"
    }
   ],
   "source": [
    "# plotting weather \n",
    "\n",
    "plt.hist(coup['weather'])\n",
    "plt.title('Weather and the offered coupon')"
   ]
  },
  {
   "cell_type": "code",
   "execution_count": null,
   "id": "d8a8c26e",
   "metadata": {},
   "outputs": [],
   "source": []
  },
  {
   "cell_type": "markdown",
   "id": "49e77968",
   "metadata": {},
   "source": [
    "## Splitting the data"
   ]
  },
  {
   "cell_type": "code",
   "execution_count": 19,
   "id": "7417e778",
   "metadata": {},
   "outputs": [],
   "source": [
    "# split \n",
    "train, val, test = prepare.train_val_test(coup, 'Y')"
   ]
  },
  {
   "cell_type": "code",
   "execution_count": 20,
   "id": "6f291130",
   "metadata": {},
   "outputs": [
    {
     "data": {
      "text/plain": [
       "((8455, 25), (2174, 25), (1450, 25))"
      ]
     },
     "execution_count": 20,
     "metadata": {},
     "output_type": "execute_result"
    }
   ],
   "source": [
    "# shapes\n",
    "\n",
    "train.shape, val.shape, test.shape"
   ]
  },
  {
   "cell_type": "markdown",
   "id": "329fc7b6",
   "metadata": {},
   "source": [
    "## Exploring the data "
   ]
  },
  {
   "cell_type": "code",
   "execution_count": 62,
   "id": "e2f4ceb1",
   "metadata": {},
   "outputs": [
    {
     "data": {
      "text/plain": [
       "Text(0.5, 1.0, 'Liklihood Of Coupon Acceptance In Different Weather')"
      ]
     },
     "execution_count": 62,
     "metadata": {},
     "output_type": "execute_result"
    },
    {
     "data": {
      "image/png": "[encoded data removed]",
      "text/plain": [
       "<Figure size 500x500 with 1 Axes>"
      ]
     },
     "metadata": {},
     "output_type": "display_data"
    }
   ],
   "source": [
    "g = sns.catplot(data = train, kind = 'bar', y = 'Y', x = 'weather')\n",
    "\n",
    "g.set_axis_labels('', 'Liklihood Of Coupon Acceptance')\n",
    "\n",
    "plt.title('Liklihood Of Coupon Acceptance In Different Weather')"
   ]
  },
  {
   "cell_type": "code",
   "execution_count": 63,
   "id": "756cdde3",
   "metadata": {},
   "outputs": [
    {
     "data": {
      "text/plain": [
       "Text(0.5, 1.0, 'Liklihood Of Coupon Acceptance When Heading In The Opposite Direction In Different Weather')"
      ]
     },
     "execution_count": 63,
     "metadata": {},
     "output_type": "execute_result"
    },
    {
     "data": {
      "image/png": "[encoded data removed]",
      "text/plain": [
       "<Figure size 595.625x500 with 1 Axes>"
      ]
     },
     "metadata": {},
     "output_type": "display_data"
    }
   ],
   "source": [
    "g = sns.catplot(data = train, kind = 'bar', y = 'Y', x = 'dir_opp', hue = 'weather')\n",
    "\n",
    "g.set_axis_labels('', 'Liklihood Of Coupon Acceptance')\n",
    "\n",
    "plt.title('Liklihood Of Coupon Acceptance When Heading In The Opposite Direction In Different Weather')"
   ]
  },
  {
   "cell_type": "code",
   "execution_count": 67,
   "id": "b36219fd",
   "metadata": {},
   "outputs": [
    {
     "data": {
      "text/plain": [
       "Text(0.5, 1.0, 'Liklihood Of Coupon Acceptance When Heading In The Opposite Direction In Different Weather')"
      ]
     },
     "execution_count": 67,
     "metadata": {},
     "output_type": "execute_result"
    },
    {
     "data": {
      "image/png": "[encoded data removed]",
      "text/plain": [
       "<Figure size 595.625x500 with 1 Axes>"
      ]
     },
     "metadata": {},
     "output_type": "display_data"
    }
   ],
   "source": [
    "g = sns.catplot(data = train, kind = 'bar', y = 'Y', x = 'has_children', hue = 'weather')\n",
    "\n",
    "g.set_axis_labels('', 'Liklihood Of Coupon Acceptance')\n",
    "\n",
    "plt.title('Liklihood Of Coupon Acceptance When Heading In The Opposite Direction In Different Weather')"
   ]
  },
  {
   "cell_type": "code",
   "execution_count": null,
   "id": "ec172bc2",
   "metadata": {},
   "outputs": [],
   "source": [
    " = sugar_acid_df[['rs', 'citric_acid']]\n",
    "    \n",
    "    kmeans = KMeans(n_clusters= 3, random_state = seed)\n",
    "\n",
    "    kmeans.fit(df)\n",
    "\n",
    "    kmeans.predict(df)\n",
    "    \n",
    "    sugar_acid_df['sugar_acid'] = kmeans.predict(df)\n",
    "    \n",
    "    sns.relplot(y = 'rs', x = 'citric_acid', hue = 'sugar_acid', palette = 'Accent', data = sugar_acid_df)\n",
    "    \n",
    "    plt.show()   \n",
    "    "
   ]
  }
 ],
 "metadata": {
  "kernelspec": {
   "display_name": "Python 3 (ipykernel)",
   "language": "python",
   "name": "python3"
  },
  "language_info": {
   "codemirror_mode": {
    "name": "ipython",
    "version": 3
   },
   "file_extension": ".py",
   "mimetype": "text/x-python",
   "name": "python",
   "nbconvert_exporter": "python",
   "pygments_lexer": "ipython3",
   "version": "3.9.13"
  }
 },
 "nbformat": 4,
 "nbformat_minor": 5
}
