{
 "cells": [
  {
   "cell_type": "markdown",
   "id": "e60bfb0c",
   "metadata": {},
   "source": [
    "# Bulgaria wine project"
   ]
  },
  {
   "cell_type": "code",
   "execution_count": 1,
   "id": "9eca09ae",
   "metadata": {},
   "outputs": [],
   "source": [
    "# imports\n",
    "\n",
    "import pandas as pd\n",
    "import numpy as np\n",
    "import matplotlib.pyplot as plt\n",
    "import seaborn as sns\n",
    "from math import sqrt\n",
    "import scipy as sc\n",
    "\n",
    "from sklearn.linear_model import LinearRegression\n",
    "from sklearn.linear_model import TweedieRegressor\n",
    "from sklearn.linear_model import LassoLars\n",
    "\n",
    "from scipy import stats\n",
    "from scipy.stats import pearsonr, spearmanr\n",
    "\n",
    "from sklearn.metrics import mean_squared_error, r2_score, explained_variance_score\n",
    "\n",
    "from sklearn.preprocessing import MinMaxScaler\n",
    "from sklearn.preprocessing import PolynomialFeatures\n",
    "\n",
    "from sklearn.cluster import KMeans\n",
    "\n",
    "from sklearn.feature_selection import SelectKBest, f_regression, RFE\n",
    "\n",
    "from sklearn.multioutput import MultiOutputClassifier\n",
    "from sklearn.tree import DecisionTreeClassifier, plot_tree\n",
    "from sklearn.ensemble import RandomForestClassifier\n",
    "from sklearn.metrics import classification_report, confusion_matrix, plot_confusion_matrix\n",
    "\n",
    "from sklearn.neighbors import KNeighborsClassifier\n",
    "\n",
    "# import my functions\n",
    "import prepare\n",
    "import env\n",
    "import prepare_xy_split\n",
    "import selectKBest_rfe_functions\n",
    "import fonctions as c\n",
    "import wrangle\n",
    "\n",
    "# turn off pink warning boxes\n",
    "import warnings\n",
    "warnings.filterwarnings(\"ignore\")\n",
    "\n",
    "%matplotlib inline"
   ]
  },
  {
   "cell_type": "code",
   "execution_count": 2,
   "id": "cebcbbdb",
   "metadata": {},
   "outputs": [],
   "source": [
    "coup = pd.read_csv('in-vehicle-coupon-recommendation.csv')"
   ]
  },
  {
   "cell_type": "code",
   "execution_count": 3,
   "id": "82fcb65d",
   "metadata": {},
   "outputs": [
    {
     "data": {
      "text/html": [
       "<div>\n",
       "<style scoped>\n",
       "    .dataframe tbody tr th:only-of-type {\n",
       "        vertical-align: middle;\n",
       "    }\n",
       "\n",
       "    .dataframe tbody tr th {\n",
       "        vertical-align: top;\n",
       "    }\n",
       "\n",
       "    .dataframe thead th {\n",
       "        text-align: right;\n",
       "    }\n",
       "</style>\n",
       "<table border=\"1\" class=\"dataframe\">\n",
       "  <thead>\n",
       "    <tr style=\"text-align: right;\">\n",
       "      <th></th>\n",
       "      <th>destination</th>\n",
       "      <th>passanger</th>\n",
       "      <th>weather</th>\n",
       "      <th>temperature</th>\n",
       "      <th>time</th>\n",
       "      <th>coupon</th>\n",
       "      <th>expiration</th>\n",
       "      <th>gender</th>\n",
       "      <th>age</th>\n",
       "      <th>maritalStatus</th>\n",
       "      <th>...</th>\n",
       "      <th>CoffeeHouse</th>\n",
       "      <th>CarryAway</th>\n",
       "      <th>RestaurantLessThan20</th>\n",
       "      <th>Restaurant20To50</th>\n",
       "      <th>toCoupon_GEQ5min</th>\n",
       "      <th>toCoupon_GEQ15min</th>\n",
       "      <th>toCoupon_GEQ25min</th>\n",
       "      <th>direction_same</th>\n",
       "      <th>direction_opp</th>\n",
       "      <th>Y</th>\n",
       "    </tr>\n",
       "  </thead>\n",
       "  <tbody>\n",
       "    <tr>\n",
       "      <th>5975</th>\n",
       "      <td>Home</td>\n",
       "      <td>Alone</td>\n",
       "      <td>Sunny</td>\n",
       "      <td>80</td>\n",
       "      <td>6PM</td>\n",
       "      <td>Coffee House</td>\n",
       "      <td>2h</td>\n",
       "      <td>Male</td>\n",
       "      <td>36</td>\n",
       "      <td>Married partner</td>\n",
       "      <td>...</td>\n",
       "      <td>less1</td>\n",
       "      <td>1~3</td>\n",
       "      <td>4~8</td>\n",
       "      <td>1~3</td>\n",
       "      <td>1</td>\n",
       "      <td>1</td>\n",
       "      <td>1</td>\n",
       "      <td>0</td>\n",
       "      <td>1</td>\n",
       "      <td>0</td>\n",
       "    </tr>\n",
       "    <tr>\n",
       "      <th>8970</th>\n",
       "      <td>Home</td>\n",
       "      <td>Alone</td>\n",
       "      <td>Rainy</td>\n",
       "      <td>55</td>\n",
       "      <td>6PM</td>\n",
       "      <td>Bar</td>\n",
       "      <td>1d</td>\n",
       "      <td>Female</td>\n",
       "      <td>21</td>\n",
       "      <td>Unmarried partner</td>\n",
       "      <td>...</td>\n",
       "      <td>1~3</td>\n",
       "      <td>4~8</td>\n",
       "      <td>NaN</td>\n",
       "      <td>4~8</td>\n",
       "      <td>1</td>\n",
       "      <td>1</td>\n",
       "      <td>1</td>\n",
       "      <td>0</td>\n",
       "      <td>1</td>\n",
       "      <td>0</td>\n",
       "    </tr>\n",
       "    <tr>\n",
       "      <th>3896</th>\n",
       "      <td>No Urgent Place</td>\n",
       "      <td>Friend(s)</td>\n",
       "      <td>Sunny</td>\n",
       "      <td>80</td>\n",
       "      <td>6PM</td>\n",
       "      <td>Coffee House</td>\n",
       "      <td>2h</td>\n",
       "      <td>Male</td>\n",
       "      <td>50plus</td>\n",
       "      <td>Single</td>\n",
       "      <td>...</td>\n",
       "      <td>never</td>\n",
       "      <td>1~3</td>\n",
       "      <td>4~8</td>\n",
       "      <td>1~3</td>\n",
       "      <td>1</td>\n",
       "      <td>0</td>\n",
       "      <td>0</td>\n",
       "      <td>0</td>\n",
       "      <td>1</td>\n",
       "      <td>0</td>\n",
       "    </tr>\n",
       "  </tbody>\n",
       "</table>\n",
       "<p>3 rows × 26 columns</p>\n",
       "</div>"
      ],
      "text/plain": [
       "          destination  passanger weather  temperature time        coupon  \\\n",
       "5975             Home      Alone   Sunny           80  6PM  Coffee House   \n",
       "8970             Home      Alone   Rainy           55  6PM           Bar   \n",
       "3896  No Urgent Place  Friend(s)   Sunny           80  6PM  Coffee House   \n",
       "\n",
       "     expiration  gender     age      maritalStatus  ...  CoffeeHouse  \\\n",
       "5975         2h    Male      36    Married partner  ...        less1   \n",
       "8970         1d  Female      21  Unmarried partner  ...          1~3   \n",
       "3896         2h    Male  50plus             Single  ...        never   \n",
       "\n",
       "     CarryAway RestaurantLessThan20 Restaurant20To50 toCoupon_GEQ5min  \\\n",
       "5975       1~3                  4~8              1~3                1   \n",
       "8970       4~8                  NaN              4~8                1   \n",
       "3896       1~3                  4~8              1~3                1   \n",
       "\n",
       "     toCoupon_GEQ15min toCoupon_GEQ25min direction_same direction_opp  Y  \n",
       "5975                 1                 1              0             1  0  \n",
       "8970                 1                 1              0             1  0  \n",
       "3896                 0                 0              0             1  0  \n",
       "\n",
       "[3 rows x 26 columns]"
      ]
     },
     "execution_count": 3,
     "metadata": {},
     "output_type": "execute_result"
    }
   ],
   "source": [
    "coup.sample(3)"
   ]
  },
  {
   "cell_type": "code",
   "execution_count": 4,
   "id": "39777a7d",
   "metadata": {},
   "outputs": [
    {
     "data": {
      "text/plain": [
       "destination                 0\n",
       "passanger                   0\n",
       "weather                     0\n",
       "temperature                 0\n",
       "time                        0\n",
       "coupon                      0\n",
       "expiration                  0\n",
       "gender                      0\n",
       "age                         0\n",
       "maritalStatus               0\n",
       "has_children                0\n",
       "education                   0\n",
       "occupation                  0\n",
       "income                      0\n",
       "car                     12576\n",
       "Bar                       107\n",
       "CoffeeHouse               217\n",
       "CarryAway                 151\n",
       "RestaurantLessThan20      130\n",
       "Restaurant20To50          189\n",
       "toCoupon_GEQ5min            0\n",
       "toCoupon_GEQ15min           0\n",
       "toCoupon_GEQ25min           0\n",
       "direction_same              0\n",
       "direction_opp               0\n",
       "Y                           0\n",
       "dtype: int64"
      ]
     },
     "execution_count": 4,
     "metadata": {},
     "output_type": "execute_result"
    }
   ],
   "source": [
    "coup.isna().sum()"
   ]
  },
  {
   "cell_type": "markdown",
   "id": "2c895b5d",
   "metadata": {},
   "source": [
    "## Cleaning "
   ]
  },
  {
   "cell_type": "markdown",
   "id": "a08edf93",
   "metadata": {},
   "source": [
    "**All columns appear to have appropriate dtypes.**"
   ]
  },
  {
   "cell_type": "code",
   "execution_count": 5,
   "id": "8614f55d",
   "metadata": {},
   "outputs": [],
   "source": [
    "# renaming \n",
    "\n",
    "coup = coup.rename(columns = {'maritalStatus' : 'marital_status', 'Bar' : 'bar','CoffeeHouse': 'coffee_hse', \n",
    "                       'CarryAway': 'carry_away', 'RestaurantLessThan20' : 'resto_less_than_20',\n",
    "                       'Restaurant20To50' : 'resto_20_50', 'toCoupon_GEQ5min' : 'to_coupon_GEQ5m',\n",
    "                       'toCoupon_GEQ15min':'to_coupon_GEQ15m', 'toCoupon_GEQ25min' : 'to_coupon_GEQ25m',\n",
    "                       'direction_same' : 'dir_same', 'direction_opp': 'dir_opp'})"
   ]
  },
  {
   "cell_type": "code",
   "execution_count": 6,
   "id": "9054efef",
   "metadata": {},
   "outputs": [],
   "source": [
    "# dropping columns\n",
    "\n",
    "coup = coup.drop(columns = ['car', 'age', 'destination', 'passanger', \n",
    "                            'expiration', 'gender', 'marital_status', 'occupation',\n",
    "                            'resto_less_than_20', 'resto_20_50', 'to_coupon_GEQ5m',\n",
    "                            'to_coupon_GEQ15m', 'to_coupon_GEQ25m', 'coupon', 'education'])"
   ]
  },
  {
   "cell_type": "markdown",
   "id": "c37a134f",
   "metadata": {},
   "source": [
    "**Dropping car column due to prevalence of null values.  Dropping 'age', 'destination', 'passanger', 'expiration', 'gender', 'marital_status', 'resto_less_than_20', 'resto_20_50', 'to_coupon_GEQ5m', 'to_coupon_GEQ15m', 'to_coupon_GEQ25m' because they will not be examined.**"
   ]
  },
  {
   "cell_type": "code",
   "execution_count": 7,
   "id": "7518766c",
   "metadata": {},
   "outputs": [],
   "source": [
    "# dropping remaining nulls\n",
    "\n",
    "coup = coup.dropna()"
   ]
  },
  {
   "cell_type": "code",
   "execution_count": 8,
   "id": "96e35335",
   "metadata": {},
   "outputs": [
    {
     "data": {
      "text/plain": [
       "Index(['weather', 'temperature', 'time', 'has_children', 'income', 'bar',\n",
       "       'coffee_hse', 'carry_away', 'dir_same', 'dir_opp', 'Y'],\n",
       "      dtype='object')"
      ]
     },
     "execution_count": 8,
     "metadata": {},
     "output_type": "execute_result"
    }
   ],
   "source": [
    "# columns \n",
    "coup.columns"
   ]
  },
  {
   "cell_type": "markdown",
   "id": "72af4035",
   "metadata": {},
   "source": [
    "**The target will be 'Y' (1 = accepted coupon, 0 = did not accept coupon).**"
   ]
  },
  {
   "cell_type": "code",
   "execution_count": 9,
   "id": "8ddc790a",
   "metadata": {},
   "outputs": [],
   "source": [
    "# sorting by values\n",
    "\n",
    "coup = coup.sort_values(['time', 'weather'], ascending = [True, True])"
   ]
  },
  {
   "cell_type": "code",
   "execution_count": 10,
   "id": "b97fc86b",
   "metadata": {},
   "outputs": [],
   "source": [
    "# perform binning on 'income' variable\n",
    "\n",
    "coup['income_bin'] = np.where(coup['income'].isin(['Less than $12500', '$12500 - $24999','$25000 - $37499',\n",
    "                                                 '$37500 - $49999', '$50000 - $62499']), 'lower_income', \n",
    "                                                 'higher_income')"
   ]
  },
  {
   "cell_type": "code",
   "execution_count": 11,
   "id": "062f9d60",
   "metadata": {},
   "outputs": [],
   "source": [
    "# making dummies\n",
    "\n",
    "dummies = pd.get_dummies(coup[['weather', 'income_bin']])\n",
    "coup = pd.concat([coup, dummies], axis = 1)"
   ]
  },
  {
   "cell_type": "code",
   "execution_count": 12,
   "id": "05e9046d",
   "metadata": {},
   "outputs": [
    {
     "data": {
      "text/html": [
       "<div>\n",
       "<style scoped>\n",
       "    .dataframe tbody tr th:only-of-type {\n",
       "        vertical-align: middle;\n",
       "    }\n",
       "\n",
       "    .dataframe tbody tr th {\n",
       "        vertical-align: top;\n",
       "    }\n",
       "\n",
       "    .dataframe thead th {\n",
       "        text-align: right;\n",
       "    }\n",
       "</style>\n",
       "<table border=\"1\" class=\"dataframe\">\n",
       "  <thead>\n",
       "    <tr style=\"text-align: right;\">\n",
       "      <th></th>\n",
       "      <th>weather</th>\n",
       "      <th>temperature</th>\n",
       "      <th>time</th>\n",
       "      <th>has_children</th>\n",
       "      <th>income</th>\n",
       "      <th>bar</th>\n",
       "      <th>coffee_hse</th>\n",
       "      <th>carry_away</th>\n",
       "      <th>dir_same</th>\n",
       "      <th>dir_opp</th>\n",
       "      <th>Y</th>\n",
       "      <th>income_bin</th>\n",
       "      <th>weather_Rainy</th>\n",
       "      <th>weather_Snowy</th>\n",
       "      <th>weather_Sunny</th>\n",
       "      <th>income_bin_higher_income</th>\n",
       "      <th>income_bin_lower_income</th>\n",
       "    </tr>\n",
       "  </thead>\n",
       "  <tbody>\n",
       "    <tr>\n",
       "      <th>4948</th>\n",
       "      <td>Sunny</td>\n",
       "      <td>80</td>\n",
       "      <td>6PM</td>\n",
       "      <td>0</td>\n",
       "      <td>$25000 - $37499</td>\n",
       "      <td>1~3</td>\n",
       "      <td>never</td>\n",
       "      <td>4~8</td>\n",
       "      <td>0</td>\n",
       "      <td>1</td>\n",
       "      <td>0</td>\n",
       "      <td>lower_income</td>\n",
       "      <td>0</td>\n",
       "      <td>0</td>\n",
       "      <td>1</td>\n",
       "      <td>0</td>\n",
       "      <td>1</td>\n",
       "    </tr>\n",
       "  </tbody>\n",
       "</table>\n",
       "</div>"
      ],
      "text/plain": [
       "     weather  temperature time  has_children           income  bar coffee_hse  \\\n",
       "4948   Sunny           80  6PM             0  $25000 - $37499  1~3      never   \n",
       "\n",
       "     carry_away  dir_same  dir_opp  Y    income_bin  weather_Rainy  \\\n",
       "4948        4~8         0        1  0  lower_income              0   \n",
       "\n",
       "      weather_Snowy  weather_Sunny  income_bin_higher_income  \\\n",
       "4948              0              1                         0   \n",
       "\n",
       "      income_bin_lower_income  \n",
       "4948                        1  "
      ]
     },
     "execution_count": 12,
     "metadata": {},
     "output_type": "execute_result"
    }
   ],
   "source": [
    "coup.sample()"
   ]
  },
  {
   "cell_type": "markdown",
   "id": "73307435",
   "metadata": {},
   "source": [
    "## Initial graphing"
   ]
  },
  {
   "cell_type": "markdown",
   "id": "999ac86a",
   "metadata": {},
   "source": [
    "**Hypotheses:**  \n",
    "1/ $H_{0}$ : There is no relationship between the weather and the coupon being accepted.  \n",
    "$H_{a}$ : There is a relationship between the weather and the coupon being accepted.  \n",
    "\n",
    "2/ $H_{0}$ : People heading in the opposite direction are equally likely to accept the coupon as people heading in the same direction as the coupon.  \n",
    "$H_{a}$ : People heading in the opposite direction are more likely to accept the coupon than people heading in the same direction as the coupon.  \n",
    "\n",
    "3/ $H_{0}$ : People heading in the same direction as the coupon are equally likely to accept the coupon as people heading in the opposte direction of the coupon.  \n",
    "$H_{a}$ : People heading in the same direction are more likely to accept the coupon than people heading in the opposite direction of the coupon.\n",
    "\n",
    "4/ $H_{0}$ : There is no relationship between bar frequency and accepting the coupon.  \n",
    "$H_{a}$ : There is a relationship between bar frequency and accepting the coupon.  \n",
    "\n",
    "\n"
   ]
  },
  {
   "cell_type": "code",
   "execution_count": 13,
   "id": "af935066",
   "metadata": {},
   "outputs": [
    {
     "data": {
      "text/html": [
       "<div>\n",
       "<style scoped>\n",
       "    .dataframe tbody tr th:only-of-type {\n",
       "        vertical-align: middle;\n",
       "    }\n",
       "\n",
       "    .dataframe tbody tr th {\n",
       "        vertical-align: top;\n",
       "    }\n",
       "\n",
       "    .dataframe thead th {\n",
       "        text-align: right;\n",
       "    }\n",
       "</style>\n",
       "<table border=\"1\" class=\"dataframe\">\n",
       "  <thead>\n",
       "    <tr style=\"text-align: right;\">\n",
       "      <th></th>\n",
       "      <th>weather</th>\n",
       "      <th>temperature</th>\n",
       "      <th>time</th>\n",
       "      <th>has_children</th>\n",
       "      <th>income</th>\n",
       "      <th>bar</th>\n",
       "      <th>coffee_hse</th>\n",
       "      <th>carry_away</th>\n",
       "      <th>dir_same</th>\n",
       "      <th>dir_opp</th>\n",
       "      <th>Y</th>\n",
       "      <th>income_bin</th>\n",
       "      <th>weather_Rainy</th>\n",
       "      <th>weather_Snowy</th>\n",
       "      <th>weather_Sunny</th>\n",
       "      <th>income_bin_higher_income</th>\n",
       "      <th>income_bin_lower_income</th>\n",
       "    </tr>\n",
       "  </thead>\n",
       "  <tbody>\n",
       "    <tr>\n",
       "      <th>6604</th>\n",
       "      <td>Rainy</td>\n",
       "      <td>55</td>\n",
       "      <td>10AM</td>\n",
       "      <td>1</td>\n",
       "      <td>$62500 - $74999</td>\n",
       "      <td>never</td>\n",
       "      <td>never</td>\n",
       "      <td>less1</td>\n",
       "      <td>0</td>\n",
       "      <td>1</td>\n",
       "      <td>1</td>\n",
       "      <td>higher_income</td>\n",
       "      <td>1</td>\n",
       "      <td>0</td>\n",
       "      <td>0</td>\n",
       "      <td>1</td>\n",
       "      <td>0</td>\n",
       "    </tr>\n",
       "    <tr>\n",
       "      <th>6629</th>\n",
       "      <td>Rainy</td>\n",
       "      <td>55</td>\n",
       "      <td>10AM</td>\n",
       "      <td>0</td>\n",
       "      <td>$100000 or More</td>\n",
       "      <td>4~8</td>\n",
       "      <td>1~3</td>\n",
       "      <td>1~3</td>\n",
       "      <td>0</td>\n",
       "      <td>1</td>\n",
       "      <td>1</td>\n",
       "      <td>higher_income</td>\n",
       "      <td>1</td>\n",
       "      <td>0</td>\n",
       "      <td>0</td>\n",
       "      <td>1</td>\n",
       "      <td>0</td>\n",
       "    </tr>\n",
       "    <tr>\n",
       "      <th>6671</th>\n",
       "      <td>Rainy</td>\n",
       "      <td>55</td>\n",
       "      <td>10AM</td>\n",
       "      <td>0</td>\n",
       "      <td>$37500 - $49999</td>\n",
       "      <td>less1</td>\n",
       "      <td>1~3</td>\n",
       "      <td>4~8</td>\n",
       "      <td>0</td>\n",
       "      <td>1</td>\n",
       "      <td>1</td>\n",
       "      <td>lower_income</td>\n",
       "      <td>1</td>\n",
       "      <td>0</td>\n",
       "      <td>0</td>\n",
       "      <td>0</td>\n",
       "      <td>1</td>\n",
       "    </tr>\n",
       "  </tbody>\n",
       "</table>\n",
       "</div>"
      ],
      "text/plain": [
       "     weather  temperature  time  has_children           income    bar  \\\n",
       "6604   Rainy           55  10AM             1  $62500 - $74999  never   \n",
       "6629   Rainy           55  10AM             0  $100000 or More    4~8   \n",
       "6671   Rainy           55  10AM             0  $37500 - $49999  less1   \n",
       "\n",
       "     coffee_hse carry_away  dir_same  dir_opp  Y     income_bin  \\\n",
       "6604      never      less1         0        1  1  higher_income   \n",
       "6629        1~3        1~3         0        1  1  higher_income   \n",
       "6671        1~3        4~8         0        1  1   lower_income   \n",
       "\n",
       "      weather_Rainy  weather_Snowy  weather_Sunny  income_bin_higher_income  \\\n",
       "6604              1              0              0                         1   \n",
       "6629              1              0              0                         1   \n",
       "6671              1              0              0                         0   \n",
       "\n",
       "      income_bin_lower_income  \n",
       "6604                        0  \n",
       "6629                        0  \n",
       "6671                        1  "
      ]
     },
     "execution_count": 13,
     "metadata": {},
     "output_type": "execute_result"
    }
   ],
   "source": [
    "coup.head(3)"
   ]
  },
  {
   "cell_type": "code",
   "execution_count": 14,
   "id": "bd883b02",
   "metadata": {},
   "outputs": [
    {
     "data": {
      "image/png": "[encoded data removed]",
      "text/plain": [
       "<Figure size 640x480 with 1 Axes>"
      ]
     },
     "metadata": {},
     "output_type": "display_data"
    }
   ],
   "source": [
    "# plotting heading in the opposite direction\n",
    "\n",
    "plt.hist(coup['dir_opp'])\n",
    "plt.title('People heading in the opposite direction of the offered coupon')\n",
    "\n",
    "# fig.set_xticklabels(['0',  '1']) # not working\n",
    "# plt.legend(['0 = Heading Same Direction', '1 = Heading Opposite'])\n",
    "plt.show()\n",
    "\n",
    "\n"
   ]
  },
  {
   "cell_type": "code",
   "execution_count": null,
   "id": "227e6483",
   "metadata": {},
   "outputs": [],
   "source": []
  },
  {
   "cell_type": "code",
   "execution_count": 15,
   "id": "d3b3ff34",
   "metadata": {},
   "outputs": [],
   "source": [
    "# plotting income\n",
    "\n",
    "def plot_income(coup):\n",
    "    \n",
    "    #x = sc.arange(9)\n",
    "    \n",
    "    #y = sc.array([0.1,2,3,4,5,6,7,8,9])\n",
    "    \n",
    "    result = coup.groupby([\"income\"])['Y'].median().reset_index().sort_values('income', ascending = False)\n",
    "\n",
    "    fig = sns.barplot(x = 'income', y = \"Y\", data = coup, order = result['income'])\n",
    "\n",
    "    plt.legend([],[])\n",
    "\n",
    "    fig.set(xlabel = 'Income Group', ylabel = 'Liklihood Of Coupon Acceptance')\n",
    "\n",
    "   # plt.xticks(np.arange(0, 9, step=0.2))\n",
    "\n",
    "    plt.xticks(rotation = 35)\n",
    "    \n",
    "    \n",
    "    # fig.bar(x, y, align = 'edge')\n",
    "    # fig.set_xticks(x)\n",
    "    \n",
    "    plt.title('Income Groups')\n",
    "\n",
    "    plt.show()"
   ]
  },
  {
   "cell_type": "code",
   "execution_count": 16,
   "id": "64d13ac5",
   "metadata": {},
   "outputs": [
    {
     "data": {
      "image/png": "[encoded data removed]",
      "text/plain": [
       "<Figure size 640x480 with 1 Axes>"
      ]
     },
     "metadata": {},
     "output_type": "display_data"
    }
   ],
   "source": [
    "plot_income(coup)"
   ]
  },
  {
   "cell_type": "markdown",
   "id": "aff5a69c",
   "metadata": {},
   "source": [
    "**Income groups appear to have a slight bimodal distribution, with people in the income 75_000 to 87_499 USD range seeming to be the least likely group to accept the coupon.**"
   ]
  },
  {
   "cell_type": "code",
   "execution_count": 17,
   "id": "76c5038b",
   "metadata": {},
   "outputs": [
    {
     "data": {
      "text/plain": [
       "Text(0.5, 1.0, 'Bar visit frequency')"
      ]
     },
     "execution_count": 17,
     "metadata": {},
     "output_type": "execute_result"
    },
    {
     "data": {
      "image/png": "[encoded data removed]",
      "text/plain": [
       "<Figure size 640x480 with 1 Axes>"
      ]
     },
     "metadata": {},
     "output_type": "display_data"
    }
   ],
   "source": [
    "# plotting 'bar'\n",
    "\n",
    "plt.hist(coup['bar'])\n",
    "plt.title('Bar visit frequency')"
   ]
  },
  {
   "cell_type": "markdown",
   "id": "2187592e",
   "metadata": {},
   "source": [
    "**The majority of people in the dataset self-report as rarely, if ever, going to bars.**"
   ]
  },
  {
   "cell_type": "code",
   "execution_count": 18,
   "id": "5f7732f8",
   "metadata": {},
   "outputs": [
    {
     "data": {
      "text/plain": [
       "Text(0.5, 1.0, 'Weather and the offered coupon')"
      ]
     },
     "execution_count": 18,
     "metadata": {},
     "output_type": "execute_result"
    },
    {
     "data": {
      "image/png": "[encoded data removed]",
      "text/plain": [
       "<Figure size 640x480 with 1 Axes>"
      ]
     },
     "metadata": {},
     "output_type": "display_data"
    }
   ],
   "source": [
    "# plotting weather \n",
    "\n",
    "plt.hist(coup['weather'])\n",
    "plt.title('Weather and the offered coupon')"
   ]
  },
  {
   "cell_type": "markdown",
   "id": "0eb7b960",
   "metadata": {},
   "source": [
    "**Sunny days prevail.**"
   ]
  },
  {
   "cell_type": "markdown",
   "id": "49e77968",
   "metadata": {},
   "source": [
    "## Splitting & scaling the data"
   ]
  },
  {
   "cell_type": "code",
   "execution_count": 19,
   "id": "7417e778",
   "metadata": {},
   "outputs": [],
   "source": [
    "# split \n",
    "train, val, test = prepare.train_val_test(coup, 'Y')"
   ]
  },
  {
   "cell_type": "code",
   "execution_count": 20,
   "id": "6f291130",
   "metadata": {},
   "outputs": [
    {
     "data": {
      "text/plain": [
       "((8605, 17), (2212, 17), (1476, 17))"
      ]
     },
     "execution_count": 20,
     "metadata": {},
     "output_type": "execute_result"
    }
   ],
   "source": [
    "# shapes\n",
    "\n",
    "train.shape, val.shape, test.shape"
   ]
  },
  {
   "cell_type": "code",
   "execution_count": 21,
   "id": "005a8822",
   "metadata": {},
   "outputs": [],
   "source": [
    "# scaling the data\n",
    "\n",
    "scaler, train_scaled, val_scaled, test_scaled = prepare.scale_splits_rb(train, \n",
    "                                                                        val, \n",
    "                                                                        test, \n",
    "                                                                        return_scaler = True)  "
   ]
  },
  {
   "cell_type": "code",
   "execution_count": 22,
   "id": "551e629c",
   "metadata": {},
   "outputs": [],
   "source": [
    "# dividing into Xs and ys \n",
    "\n",
    "X_train, y_train, X_val, y_val, X_test, y_test = c.tts_xy(train_scaled,\n",
    "                                                          val_scaled, test_scaled, 'Y')"
   ]
  },
  {
   "cell_type": "markdown",
   "id": "329fc7b6",
   "metadata": {},
   "source": [
    "## Exploring the data "
   ]
  },
  {
   "cell_type": "code",
   "execution_count": 23,
   "id": "7875c94f",
   "metadata": {},
   "outputs": [
    {
     "data": {
      "text/html": [
       "<div>\n",
       "<style scoped>\n",
       "    .dataframe tbody tr th:only-of-type {\n",
       "        vertical-align: middle;\n",
       "    }\n",
       "\n",
       "    .dataframe tbody tr th {\n",
       "        vertical-align: top;\n",
       "    }\n",
       "\n",
       "    .dataframe thead th {\n",
       "        text-align: right;\n",
       "    }\n",
       "</style>\n",
       "<table border=\"1\" class=\"dataframe\">\n",
       "  <thead>\n",
       "    <tr style=\"text-align: right;\">\n",
       "      <th></th>\n",
       "      <th>temperature</th>\n",
       "      <th>has_children</th>\n",
       "      <th>dir_same</th>\n",
       "      <th>dir_opp</th>\n",
       "      <th>Y</th>\n",
       "      <th>weather_Rainy</th>\n",
       "      <th>weather_Snowy</th>\n",
       "      <th>weather_Sunny</th>\n",
       "      <th>income_bin_higher_income</th>\n",
       "      <th>income_bin_lower_income</th>\n",
       "    </tr>\n",
       "  </thead>\n",
       "  <tbody>\n",
       "    <tr>\n",
       "      <th>temperature</th>\n",
       "      <td>1.000000</td>\n",
       "      <td>-0.029801</td>\n",
       "      <td>0.111541</td>\n",
       "      <td>-0.111541</td>\n",
       "      <td>0.052976</td>\n",
       "      <td>-0.135958</td>\n",
       "      <td>-0.612738</td>\n",
       "      <td>0.576103</td>\n",
       "      <td>-0.041837</td>\n",
       "      <td>0.041837</td>\n",
       "    </tr>\n",
       "    <tr>\n",
       "      <th>has_children</th>\n",
       "      <td>-0.029801</td>\n",
       "      <td>1.000000</td>\n",
       "      <td>-0.029887</td>\n",
       "      <td>0.029887</td>\n",
       "      <td>-0.045164</td>\n",
       "      <td>-0.018979</td>\n",
       "      <td>-0.000109</td>\n",
       "      <td>0.013791</td>\n",
       "      <td>0.074709</td>\n",
       "      <td>-0.074709</td>\n",
       "    </tr>\n",
       "    <tr>\n",
       "      <th>dir_same</th>\n",
       "      <td>0.111541</td>\n",
       "      <td>-0.029887</td>\n",
       "      <td>1.000000</td>\n",
       "      <td>-1.000000</td>\n",
       "      <td>0.030291</td>\n",
       "      <td>0.022628</td>\n",
       "      <td>-0.074916</td>\n",
       "      <td>0.042091</td>\n",
       "      <td>-0.023717</td>\n",
       "      <td>0.023717</td>\n",
       "    </tr>\n",
       "    <tr>\n",
       "      <th>dir_opp</th>\n",
       "      <td>-0.111541</td>\n",
       "      <td>0.029887</td>\n",
       "      <td>-1.000000</td>\n",
       "      <td>1.000000</td>\n",
       "      <td>-0.030291</td>\n",
       "      <td>-0.022628</td>\n",
       "      <td>0.074916</td>\n",
       "      <td>-0.042091</td>\n",
       "      <td>0.023717</td>\n",
       "      <td>-0.023717</td>\n",
       "    </tr>\n",
       "    <tr>\n",
       "      <th>Y</th>\n",
       "      <td>0.052976</td>\n",
       "      <td>-0.045164</td>\n",
       "      <td>0.030291</td>\n",
       "      <td>-0.030291</td>\n",
       "      <td>1.000000</td>\n",
       "      <td>-0.071486</td>\n",
       "      <td>-0.065654</td>\n",
       "      <td>0.102832</td>\n",
       "      <td>-0.048582</td>\n",
       "      <td>0.048582</td>\n",
       "    </tr>\n",
       "    <tr>\n",
       "      <th>weather_Rainy</th>\n",
       "      <td>-0.135958</td>\n",
       "      <td>-0.018979</td>\n",
       "      <td>0.022628</td>\n",
       "      <td>-0.022628</td>\n",
       "      <td>-0.071486</td>\n",
       "      <td>1.000000</td>\n",
       "      <td>-0.115290</td>\n",
       "      <td>-0.632242</td>\n",
       "      <td>0.006075</td>\n",
       "      <td>-0.006075</td>\n",
       "    </tr>\n",
       "    <tr>\n",
       "      <th>weather_Snowy</th>\n",
       "      <td>-0.612738</td>\n",
       "      <td>-0.000109</td>\n",
       "      <td>-0.074916</td>\n",
       "      <td>0.074916</td>\n",
       "      <td>-0.065654</td>\n",
       "      <td>-0.115290</td>\n",
       "      <td>1.000000</td>\n",
       "      <td>-0.696714</td>\n",
       "      <td>0.033502</td>\n",
       "      <td>-0.033502</td>\n",
       "    </tr>\n",
       "    <tr>\n",
       "      <th>weather_Sunny</th>\n",
       "      <td>0.576103</td>\n",
       "      <td>0.013791</td>\n",
       "      <td>0.042091</td>\n",
       "      <td>-0.042091</td>\n",
       "      <td>0.102832</td>\n",
       "      <td>-0.632242</td>\n",
       "      <td>-0.696714</td>\n",
       "      <td>1.000000</td>\n",
       "      <td>-0.030517</td>\n",
       "      <td>0.030517</td>\n",
       "    </tr>\n",
       "    <tr>\n",
       "      <th>income_bin_higher_income</th>\n",
       "      <td>-0.041837</td>\n",
       "      <td>0.074709</td>\n",
       "      <td>-0.023717</td>\n",
       "      <td>0.023717</td>\n",
       "      <td>-0.048582</td>\n",
       "      <td>0.006075</td>\n",
       "      <td>0.033502</td>\n",
       "      <td>-0.030517</td>\n",
       "      <td>1.000000</td>\n",
       "      <td>-1.000000</td>\n",
       "    </tr>\n",
       "    <tr>\n",
       "      <th>income_bin_lower_income</th>\n",
       "      <td>0.041837</td>\n",
       "      <td>-0.074709</td>\n",
       "      <td>0.023717</td>\n",
       "      <td>-0.023717</td>\n",
       "      <td>0.048582</td>\n",
       "      <td>-0.006075</td>\n",
       "      <td>-0.033502</td>\n",
       "      <td>0.030517</td>\n",
       "      <td>-1.000000</td>\n",
       "      <td>1.000000</td>\n",
       "    </tr>\n",
       "  </tbody>\n",
       "</table>\n",
       "</div>"
      ],
      "text/plain": [
       "                          temperature  has_children  dir_same   dir_opp  \\\n",
       "temperature                  1.000000     -0.029801  0.111541 -0.111541   \n",
       "has_children                -0.029801      1.000000 -0.029887  0.029887   \n",
       "dir_same                     0.111541     -0.029887  1.000000 -1.000000   \n",
       "dir_opp                     -0.111541      0.029887 -1.000000  1.000000   \n",
       "Y                            0.052976     -0.045164  0.030291 -0.030291   \n",
       "weather_Rainy               -0.135958     -0.018979  0.022628 -0.022628   \n",
       "weather_Snowy               -0.612738     -0.000109 -0.074916  0.074916   \n",
       "weather_Sunny                0.576103      0.013791  0.042091 -0.042091   \n",
       "income_bin_higher_income    -0.041837      0.074709 -0.023717  0.023717   \n",
       "income_bin_lower_income      0.041837     -0.074709  0.023717 -0.023717   \n",
       "\n",
       "                                 Y  weather_Rainy  weather_Snowy  \\\n",
       "temperature               0.052976      -0.135958      -0.612738   \n",
       "has_children             -0.045164      -0.018979      -0.000109   \n",
       "dir_same                  0.030291       0.022628      -0.074916   \n",
       "dir_opp                  -0.030291      -0.022628       0.074916   \n",
       "Y                         1.000000      -0.071486      -0.065654   \n",
       "weather_Rainy            -0.071486       1.000000      -0.115290   \n",
       "weather_Snowy            -0.065654      -0.115290       1.000000   \n",
       "weather_Sunny             0.102832      -0.632242      -0.696714   \n",
       "income_bin_higher_income -0.048582       0.006075       0.033502   \n",
       "income_bin_lower_income   0.048582      -0.006075      -0.033502   \n",
       "\n",
       "                          weather_Sunny  income_bin_higher_income  \\\n",
       "temperature                    0.576103                 -0.041837   \n",
       "has_children                   0.013791                  0.074709   \n",
       "dir_same                       0.042091                 -0.023717   \n",
       "dir_opp                       -0.042091                  0.023717   \n",
       "Y                              0.102832                 -0.048582   \n",
       "weather_Rainy                 -0.632242                  0.006075   \n",
       "weather_Snowy                 -0.696714                  0.033502   \n",
       "weather_Sunny                  1.000000                 -0.030517   \n",
       "income_bin_higher_income      -0.030517                  1.000000   \n",
       "income_bin_lower_income        0.030517                 -1.000000   \n",
       "\n",
       "                          income_bin_lower_income  \n",
       "temperature                              0.041837  \n",
       "has_children                            -0.074709  \n",
       "dir_same                                 0.023717  \n",
       "dir_opp                                 -0.023717  \n",
       "Y                                        0.048582  \n",
       "weather_Rainy                           -0.006075  \n",
       "weather_Snowy                           -0.033502  \n",
       "weather_Sunny                            0.030517  \n",
       "income_bin_higher_income                -1.000000  \n",
       "income_bin_lower_income                  1.000000  "
      ]
     },
     "execution_count": 23,
     "metadata": {},
     "output_type": "execute_result"
    }
   ],
   "source": [
    "# looking at correlation numerically\n",
    "\n",
    "train_corr = train.corr()\n",
    "train_corr"
   ]
  },
  {
   "cell_type": "markdown",
   "id": "565f631d",
   "metadata": {},
   "source": [
    "**In the correlation grid, it can be ween that there is a correlation between the different types of weather and the temperature, which is logical, and normal, and will not be examined here.**  \n",
    "\n",
    "**According to this table, the correlation between accepting the coupon when heading in the opposite direction, and accepting the coupon when heading in the same direction is the same. This is curious, and will be examined here.**  \n",
    "\n",
    "**Overall, few of the numeric columns show significant correlation to the target variable ('Y'), or accepting the coupon.**  "
   ]
  },
  {
   "cell_type": "markdown",
   "id": "d0f092d0",
   "metadata": {},
   "source": [
    "## Questions to test\n",
    "\n",
    "**Question 1 : Is there a relationship between the weather and the coupon being accepted ?**  \n",
    "\n",
    "**Question 2 : Are people heading in the opposite direction of the coupon offer more likely to accept the coupon as people heading in the same direction as the coupon ?**  \n",
    "\n",
    "**Question 3 : Is there a relationship between income group and accepting the coupon ?**   \n",
    "\n",
    "**Question 4 : Are different income groups more likely to accept the coupon ?**\n",
    "\n"
   ]
  },
  {
   "cell_type": "code",
   "execution_count": 34,
   "id": "e8565984",
   "metadata": {},
   "outputs": [],
   "source": [
    "# creating numeric column of 3 weather types \n",
    "\n",
    "train = c.weather3_col(train)"
   ]
  },
  {
   "cell_type": "markdown",
   "id": "a5bd5ae8",
   "metadata": {},
   "source": [
    "### 1/ $H_{0}$ : There is no relationship between the weather and the coupon being accepted.  \n",
    "### $H_{a}$ : There is a relationship between the weather and the coupon being accepted.  "
   ]
  },
  {
   "cell_type": "code",
   "execution_count": 25,
   "id": "1ef1e607",
   "metadata": {},
   "outputs": [
    {
     "data": {
      "text/plain": [
       "(970, 6820, 815)"
      ]
     },
     "execution_count": 25,
     "metadata": {},
     "output_type": "execute_result"
    }
   ],
   "source": [
    "# looking at values in each weather-dummy column\n",
    "\n",
    "train['weather_Snowy'].sum(), train['weather_Sunny'].sum(), train['weather_Rainy'].sum(), "
   ]
  },
  {
   "cell_type": "code",
   "execution_count": 83,
   "id": "faa00ace",
   "metadata": {},
   "outputs": [],
   "source": [
    "def plot_weather_coupon(train):\n",
    "    \n",
    "    g = sns.diverging_palette(300, 10, s = 90)\n",
    "    \n",
    "    sns.countplot(train['weather3'], hue = train['Y'], palette = 'GnBu', orient = \"h\")\n",
    "    plt.ylabel('Likelihood Of Coupon Acceptance')\n",
    "    plt.xlabel('Weather Types')\n",
    "   \n",
    "    plt.title('Likelihood Of Coupon Acceptance In Different Weather')\n",
    "    labels = ['Snowy', 'Sunny', 'Rainy']\n",
    "    \n",
    "    plt.legend(title='Coupon Acceptance', loc = 'upper right', labels=['No', 'Yes'])    \n",
    "    \n",
    "    plt.xticks(ticks = (0, 1, 2), labels = labels)\n",
    "    plt.show()"
   ]
  },
  {
   "cell_type": "code",
   "execution_count": 84,
   "id": "839936ec",
   "metadata": {},
   "outputs": [
    {
     "data": {
      "image/png": "[encoded data removed]",
      "text/plain": [
       "<Figure size 640x480 with 1 Axes>"
      ]
     },
     "metadata": {},
     "output_type": "display_data"
    }
   ],
   "source": [
    "# plotting weather & coupon acceptance\n",
    "\n",
    "c.plot_weather_coupon(train)"
   ]
  },
  {
   "cell_type": "code",
   "execution_count": 60,
   "id": "9e9389e0",
   "metadata": {},
   "outputs": [
    {
     "data": {
      "image/png": "[encoded data removed]",
      "text/plain": [
       "<Figure size 500x500 with 1 Axes>"
      ]
     },
     "metadata": {},
     "output_type": "display_data"
    }
   ],
   "source": [
    "# plotting weather & coupon acceptance \n",
    "\n",
    "c.plot_weather(train)"
   ]
  },
  {
   "cell_type": "markdown",
   "id": "984b46fc",
   "metadata": {},
   "source": [
    "**The barplot would seem to indicate that people are most likely to accept the coupon during sunny weather, followed by snowy and then rainy weather.**"
   ]
  },
  {
   "cell_type": "code",
   "execution_count": 31,
   "id": "351ffec6",
   "metadata": {},
   "outputs": [
    {
     "name": "stdout",
     "output_type": "stream",
     "text": [
      "Chi-square  : 91.5939\n",
      "\n",
      "P-value : 0.0000\n",
      "\n",
      "We reject the null hypothesis ; there is a relationship between the target variable and the feature examined.\n"
     ]
    }
   ],
   "source": [
    "# t-test on weather & coupon acceptance\n",
    "\n",
    "c.chi_sq(train['Y'], train['weather3'])"
   ]
  },
  {
   "cell_type": "markdown",
   "id": "2a78df56",
   "metadata": {},
   "source": [
    "**TAKEAWAY : The Chi-square shows that there is a significant correlation between the weather and the likelihood of a person accepting the coupon.**"
   ]
  },
  {
   "cell_type": "markdown",
   "id": "f677648e",
   "metadata": {},
   "source": [
    "### 2/ $H_{0}$ : People heading in the opposite direction are equally likely to accept the coupon as people heading in the same direction as the coupon.  \n",
    "### $H_{a}$ : People heading in the opposite direction are less likely to accept the coupon than people heading in the same direction as the coupon.  "
   ]
  },
  {
   "cell_type": "code",
   "execution_count": null,
   "id": "293dcab1",
   "metadata": {},
   "outputs": [],
   "source": []
  },
  {
   "cell_type": "code",
   "execution_count": null,
   "id": "fef4175e",
   "metadata": {},
   "outputs": [],
   "source": [
    "# plotting coupon acceptance when heading in opposite dir in different weather\n",
    "\n",
    "c.plot_opp_dir(train)"
   ]
  },
  {
   "cell_type": "code",
   "execution_count": null,
   "id": "f7c18784",
   "metadata": {},
   "outputs": [],
   "source": [
    "# chi-square test for opposite direction\n",
    "\n",
    "c.chi_sq(train['Y'], train['dir_opp'])"
   ]
  },
  {
   "cell_type": "markdown",
   "id": "80650030",
   "metadata": {},
   "source": [
    "### 3/ $H_{0}$ : Income group has no relationship to accepting the coupon.  \n",
    "### $H_{a}$ : Income group has no relationship to accepting the coupon.  "
   ]
  },
  {
   "cell_type": "code",
   "execution_count": null,
   "id": "c307d65a",
   "metadata": {},
   "outputs": [],
   "source": [
    "# plotting income groups and coupon acceptance\n",
    "\n",
    "c.plot_inc(train)"
   ]
  },
  {
   "cell_type": "code",
   "execution_count": null,
   "id": "83d401d0",
   "metadata": {},
   "outputs": [],
   "source": [
    "# chi-square test for income groups\n",
    "\n",
    "c.chi_sq(train['Y'], train['income'])"
   ]
  },
  {
   "cell_type": "markdown",
   "id": "44581719",
   "metadata": {},
   "source": [
    "\n",
    "### 4/ $H_{0}$ : There is no relationship between bar frequency and accepting the coupon.  \n",
    "### $H_{a}$ : There is a relationship between bar frequency and accepting the coupon.  \n",
    "\n"
   ]
  },
  {
   "cell_type": "code",
   "execution_count": null,
   "id": "5f4db163",
   "metadata": {},
   "outputs": [],
   "source": [
    "# plotting bar visit frequency and coupon acceptance\n",
    "\n",
    "c.plot_bar(train)"
   ]
  },
  {
   "cell_type": "code",
   "execution_count": null,
   "id": "dc231279",
   "metadata": {},
   "outputs": [],
   "source": [
    "# chi-square test for bar visit frequency\n",
    "\n",
    "c.chi_sq(train['Y'], train['bar'])"
   ]
  },
  {
   "cell_type": "code",
   "execution_count": null,
   "id": "a5222759",
   "metadata": {},
   "outputs": [],
   "source": []
  },
  {
   "cell_type": "code",
   "execution_count": null,
   "id": "c24b4307",
   "metadata": {},
   "outputs": [],
   "source": []
  },
  {
   "cell_type": "code",
   "execution_count": null,
   "id": "196d7860",
   "metadata": {},
   "outputs": [],
   "source": []
  }
 ],
 "metadata": {
  "kernelspec": {
   "display_name": "Python 3 (ipykernel)",
   "language": "python",
   "name": "python3"
  },
  "language_info": {
   "codemirror_mode": {
    "name": "ipython",
    "version": 3
   },
   "file_extension": ".py",
   "mimetype": "text/x-python",
   "name": "python",
   "nbconvert_exporter": "python",
   "pygments_lexer": "ipython3",
   "version": "3.9.13"
  }
 },
 "nbformat": 4,
 "nbformat_minor": 5
}
